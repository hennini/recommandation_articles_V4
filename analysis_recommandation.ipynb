{
 "cells": [
  {
   "cell_type": "markdown",
   "id": "e76d2f54-53b8-4c6c-ba33-4dd5afda8cc9",
   "metadata": {},
   "source": [
    "# Recommandation de livres"
   ]
  },
  {
   "cell_type": "markdown",
   "id": "15c3e5e7-192c-4e91-8e73-52f27f4bd077",
   "metadata": {},
   "source": [
    "## installation des modules"
   ]
  },
  {
   "cell_type": "markdown",
   "id": "2a66f239-6d46-480a-a33d-43af35dad374",
   "metadata": {},
   "source": [
    "!pip install scikit-surprise"
   ]
  },
  {
   "cell_type": "markdown",
   "id": "70b5cb60-edb2-48c7-90e2-7ab72b3dcf8d",
   "metadata": {},
   "source": [
    "## import des modules"
   ]
  },
  {
   "cell_type": "code",
   "execution_count": 379,
   "id": "ba39dfd5-59a6-4626-8587-b9872b6fe323",
   "metadata": {},
   "outputs": [],
   "source": [
    "import os\n",
    "\n",
    "import random\n",
    "import pandas as pd\n",
    "import numpy as np\n",
    "\n",
    "import seaborn as sns\n",
    "import matplotlib.pyplot as plt\n",
    "%matplotlib inline\n",
    "import missingno\n",
    "\n",
    "from collections import defaultdict\n",
    "import pickle\n",
    "from pathlib import Path\n",
    "from operator import itemgetter\n",
    "\n",
    "import sklearn\n",
    "import sklearn.model_selection\n",
    "from sklearn.metrics.pairwise import linear_kernel\n",
    "from sklearn.metrics.pairwise import cosine_similarity\n",
    "\n",
    "from surprise import NormalPredictor\n",
    "from surprise import Dataset\n",
    "from surprise import Reader\n",
    "from surprise.model_selection import cross_validate, train_test_split, GridSearchCV\n",
    "from surprise import KNNWithMeans, SVD\n",
    "from surprise import accuracy\n",
    "\n",
    "#Settings\n",
    "pd.set_option('display.max_columns', None)\n",
    "sns.set(color_codes=True)\n",
    "\n",
    "#To be avoided in your notebook.\n",
    "import warnings\n",
    "warnings.filterwarnings(\"ignore\")"
   ]
  },
  {
   "cell_type": "code",
   "execution_count": 293,
   "id": "2a900e2b-4e88-4819-8981-95955f6daa90",
   "metadata": {},
   "outputs": [
    {
     "name": "stdout",
     "output_type": "stream",
     "text": [
      ".ipynb_checkpoints\n",
      "analysis_recommandation.ipynb\n",
      "articles_embeddings.pickle\n",
      "articles_metadata.csv\n",
      "clicks\n",
      "clicks.csv\n",
      "clicks_sample.csv\n",
      "cosine_similarities.npy\n",
      "df.csv\n",
      "pickle_surprise_model_KNNWithMeans.pkl\n"
     ]
    }
   ],
   "source": [
    "[print(x) for x in os.listdir()];"
   ]
  },
  {
   "cell_type": "markdown",
   "id": "f1cddcdf-9adc-463d-9151-5bbc941143d6",
   "metadata": {},
   "source": [
    "# Exploratory Data Analysis"
   ]
  },
  {
   "cell_type": "markdown",
   "id": "bd307925-6e8b-454f-919a-ac97158e52d4",
   "metadata": {},
   "source": [
    "## EDA sur fichier \"articles_metadata.csv\""
   ]
  },
  {
   "cell_type": "code",
   "execution_count": 294,
   "id": "ef1badcf-a3ca-429a-aa98-7e143fb32424",
   "metadata": {},
   "outputs": [],
   "source": [
    "PATH_ARTICLES_DATA = \"articles_metadata.csv\"\n",
    "articles_df = pd.read_csv(PATH_ARTICLES_DATA)"
   ]
  },
  {
   "cell_type": "code",
   "execution_count": 295,
   "id": "dcf88814-3961-4a53-9d08-4dd636822e4c",
   "metadata": {},
   "outputs": [
    {
     "data": {
      "text/html": [
       "<div>\n",
       "<style scoped>\n",
       "    .dataframe tbody tr th:only-of-type {\n",
       "        vertical-align: middle;\n",
       "    }\n",
       "\n",
       "    .dataframe tbody tr th {\n",
       "        vertical-align: top;\n",
       "    }\n",
       "\n",
       "    .dataframe thead th {\n",
       "        text-align: right;\n",
       "    }\n",
       "</style>\n",
       "<table border=\"1\" class=\"dataframe\">\n",
       "  <thead>\n",
       "    <tr style=\"text-align: right;\">\n",
       "      <th></th>\n",
       "      <th>article_id</th>\n",
       "      <th>category_id</th>\n",
       "      <th>created_at_ts</th>\n",
       "      <th>publisher_id</th>\n",
       "      <th>words_count</th>\n",
       "    </tr>\n",
       "  </thead>\n",
       "  <tbody>\n",
       "    <tr>\n",
       "      <th>0</th>\n",
       "      <td>0</td>\n",
       "      <td>0</td>\n",
       "      <td>1513144419000</td>\n",
       "      <td>0</td>\n",
       "      <td>168</td>\n",
       "    </tr>\n",
       "    <tr>\n",
       "      <th>1</th>\n",
       "      <td>1</td>\n",
       "      <td>1</td>\n",
       "      <td>1405341936000</td>\n",
       "      <td>0</td>\n",
       "      <td>189</td>\n",
       "    </tr>\n",
       "    <tr>\n",
       "      <th>2</th>\n",
       "      <td>2</td>\n",
       "      <td>1</td>\n",
       "      <td>1408667706000</td>\n",
       "      <td>0</td>\n",
       "      <td>250</td>\n",
       "    </tr>\n",
       "    <tr>\n",
       "      <th>3</th>\n",
       "      <td>3</td>\n",
       "      <td>1</td>\n",
       "      <td>1408468313000</td>\n",
       "      <td>0</td>\n",
       "      <td>230</td>\n",
       "    </tr>\n",
       "    <tr>\n",
       "      <th>4</th>\n",
       "      <td>4</td>\n",
       "      <td>1</td>\n",
       "      <td>1407071171000</td>\n",
       "      <td>0</td>\n",
       "      <td>162</td>\n",
       "    </tr>\n",
       "  </tbody>\n",
       "</table>\n",
       "</div>"
      ],
      "text/plain": [
       "   article_id  category_id  created_at_ts  publisher_id  words_count\n",
       "0           0            0  1513144419000             0          168\n",
       "1           1            1  1405341936000             0          189\n",
       "2           2            1  1408667706000             0          250\n",
       "3           3            1  1408468313000             0          230\n",
       "4           4            1  1407071171000             0          162"
      ]
     },
     "execution_count": 295,
     "metadata": {},
     "output_type": "execute_result"
    }
   ],
   "source": [
    "articles_df.head()\n"
   ]
  },
  {
   "cell_type": "code",
   "execution_count": 296,
   "id": "49d72cc1-8884-4ab4-949f-0ac30adf5e56",
   "metadata": {},
   "outputs": [
    {
     "data": {
      "image/png": "[encoded data removed]",
      "text/plain": [
       "<Figure size 2500x1000 with 2 Axes>"
      ]
     },
     "metadata": {},
     "output_type": "display_data"
    }
   ],
   "source": [
    "missingno.matrix(articles_df);\n"
   ]
  },
  {
   "cell_type": "code",
   "execution_count": 297,
   "id": "34cba11f-de55-4fa0-b5e1-8d51d8c9f2e4",
   "metadata": {},
   "outputs": [
    {
     "data": {
      "text/plain": [
       "count    364047.000000\n",
       "mean        190.897727\n",
       "std          59.502766\n",
       "min           0.000000\n",
       "25%         159.000000\n",
       "50%         186.000000\n",
       "75%         218.000000\n",
       "max        6690.000000\n",
       "Name: words_count, dtype: float64"
      ]
     },
     "execution_count": 297,
     "metadata": {},
     "output_type": "execute_result"
    }
   ],
   "source": [
    "articles_df['words_count'].describe()\n"
   ]
  },
  {
   "cell_type": "code",
   "execution_count": 298,
   "id": "20bcf1cf-8ff6-4366-a9eb-27da5ca07b18",
   "metadata": {},
   "outputs": [
    {
     "data": {
      "text/plain": [
       "count    364047.000000\n",
       "mean     182023.000000\n",
       "std      105091.461061\n",
       "min           0.000000\n",
       "25%       91011.500000\n",
       "50%      182023.000000\n",
       "75%      273034.500000\n",
       "max      364046.000000\n",
       "Name: article_id, dtype: float64"
      ]
     },
     "execution_count": 298,
     "metadata": {},
     "output_type": "execute_result"
    }
   ],
   "source": [
    "articles_df['article_id'].describe()\n"
   ]
  },
  {
   "cell_type": "code",
   "execution_count": 299,
   "id": "8e50af4a-9703-4db1-8ff2-bab9b63547f9",
   "metadata": {},
   "outputs": [
    {
     "data": {
      "text/plain": [
       "count    364047.000000\n",
       "mean        283.108239\n",
       "std         136.723470\n",
       "min           0.000000\n",
       "25%         199.000000\n",
       "50%         301.000000\n",
       "75%         399.000000\n",
       "max         460.000000\n",
       "Name: category_id, dtype: float64"
      ]
     },
     "execution_count": 299,
     "metadata": {},
     "output_type": "execute_result"
    }
   ],
   "source": [
    "articles_df['category_id'].describe()\n"
   ]
  },
  {
   "cell_type": "code",
   "execution_count": 300,
   "id": "6105845a-14dc-4d65-a103-0353686041f4",
   "metadata": {},
   "outputs": [
    {
     "data": {
      "image/png": "[encoded data removed]",
      "text/plain": [
       "<Figure size 1200x800 with 1 Axes>"
      ]
     },
     "metadata": {},
     "output_type": "display_data"
    }
   ],
   "source": [
    "fig, ax = plt.subplots(figsize=(12, 8))\n",
    "\n",
    "sns.histplot(articles_df['words_count'],\n",
    "            color=\"deepskyblue\",\n",
    "            edgecolor=\"black\",\n",
    "            alpha=0.7,\n",
    "            ax=ax)\n",
    "\n",
    "plt.xlim([0,400])\n",
    "plt.title('words per article distribution');\n",
    "plt.show()"
   ]
  },
  {
   "cell_type": "code",
   "execution_count": 301,
   "id": "6229d21c-2cd0-4344-8bef-378b136f1d3c",
   "metadata": {},
   "outputs": [
    {
     "name": "stdout",
     "output_type": "stream",
     "text": [
      "Empty article(s) : 35\n"
     ]
    }
   ],
   "source": [
    "print(f'Empty article(s) : {articles_df[articles_df[\"words_count\"] == 0].count()[0]}')\n"
   ]
  },
  {
   "cell_type": "code",
   "execution_count": 302,
   "id": "99118168-bda1-4f1c-b3e8-4c242767f4be",
   "metadata": {},
   "outputs": [
    {
     "data": {
      "image/png": "[encoded data removed]",
      "text/plain": [
       "<Figure size 1200x800 with 1 Axes>"
      ]
     },
     "metadata": {},
     "output_type": "display_data"
    }
   ],
   "source": [
    "fig, ax = plt.subplots(figsize=(12, 8))\n",
    "\n",
    "sns.histplot(articles_df['category_id'],\n",
    "            color=\"deepskyblue\",\n",
    "            edgecolor=\"black\",\n",
    "            alpha=0.7,\n",
    "            ax=ax)\n",
    "\n",
    "plt.title('categories distribution');\n",
    "plt.show()"
   ]
  },
  {
   "cell_type": "code",
   "execution_count": 303,
   "id": "0607d411-690c-4dd7-bc83-116484e1f237",
   "metadata": {},
   "outputs": [
    {
     "name": "stdout",
     "output_type": "stream",
     "text": [
      "=== Unique values of metadata dataframes ===\n",
      "=============================================================\n",
      "article_id  : 364047\n",
      "category_id  : 461\n",
      "created_at_ts  : 359552\n",
      "publisher_id  : 1\n",
      "words_count  : 866\n"
     ]
    }
   ],
   "source": [
    "# Check unique values per column\n",
    "print('=== Unique values of metadata dataframes ===')\n",
    "print('=============================================================')\n",
    "for col in articles_df.columns:\n",
    "    print(col, ' :', articles_df[col].nunique())"
   ]
  },
  {
   "cell_type": "markdown",
   "id": "4e6deb38-059e-42d5-84f9-a38d3a74e1ee",
   "metadata": {},
   "source": [
    "## EDA sur les fichiers présents dans le dossier clicks "
   ]
  },
  {
   "cell_type": "code",
   "execution_count": 304,
   "id": "1e9aec44-98fd-4e82-b5d1-c202165ea4b0",
   "metadata": {},
   "outputs": [],
   "source": [
    "src_path = Path()"
   ]
  },
  {
   "cell_type": "code",
   "execution_count": 305,
   "id": "ae356131-f11f-4e61-964b-94cb9ed57371",
   "metadata": {},
   "outputs": [],
   "source": [
    "# Path to the clicks files\n",
    "click_path = Path('./clicks/clicks')"
   ]
  },
  {
   "cell_type": "code",
   "execution_count": 306,
   "id": "a382bdf2-cfab-4599-8896-0e23ba37f5c2",
   "metadata": {},
   "outputs": [
    {
     "name": "stdout",
     "output_type": "stream",
     "text": [
      "Données de clics:  (2988181, 13)\n"
     ]
    },
    {
     "data": {
      "text/html": [
       "<div>\n",
       "<style scoped>\n",
       "    .dataframe tbody tr th:only-of-type {\n",
       "        vertical-align: middle;\n",
       "    }\n",
       "\n",
       "    .dataframe tbody tr th {\n",
       "        vertical-align: top;\n",
       "    }\n",
       "\n",
       "    .dataframe thead th {\n",
       "        text-align: right;\n",
       "    }\n",
       "</style>\n",
       "<table border=\"1\" class=\"dataframe\">\n",
       "  <thead>\n",
       "    <tr style=\"text-align: right;\">\n",
       "      <th></th>\n",
       "      <th>user_id</th>\n",
       "      <th>session_id</th>\n",
       "      <th>session_start</th>\n",
       "      <th>session_size</th>\n",
       "      <th>article_id</th>\n",
       "      <th>click_timestamp</th>\n",
       "      <th>click_environment</th>\n",
       "      <th>click_deviceGroup</th>\n",
       "      <th>click_os</th>\n",
       "      <th>click_country</th>\n",
       "      <th>click_region</th>\n",
       "      <th>click_referrer_type</th>\n",
       "      <th>filename</th>\n",
       "    </tr>\n",
       "  </thead>\n",
       "  <tbody>\n",
       "    <tr>\n",
       "      <th>0</th>\n",
       "      <td>0</td>\n",
       "      <td>1506825423271737</td>\n",
       "      <td>2017-10-01 02:37:03</td>\n",
       "      <td>2</td>\n",
       "      <td>157541</td>\n",
       "      <td>2017-10-01 03:00:28.020</td>\n",
       "      <td>4</td>\n",
       "      <td>3</td>\n",
       "      <td>20</td>\n",
       "      <td>1</td>\n",
       "      <td>20</td>\n",
       "      <td>2</td>\n",
       "      <td>0</td>\n",
       "    </tr>\n",
       "    <tr>\n",
       "      <th>1</th>\n",
       "      <td>0</td>\n",
       "      <td>1506825423271737</td>\n",
       "      <td>2017-10-01 02:37:03</td>\n",
       "      <td>2</td>\n",
       "      <td>68866</td>\n",
       "      <td>2017-10-01 03:00:58.020</td>\n",
       "      <td>4</td>\n",
       "      <td>3</td>\n",
       "      <td>20</td>\n",
       "      <td>1</td>\n",
       "      <td>20</td>\n",
       "      <td>2</td>\n",
       "      <td>0</td>\n",
       "    </tr>\n",
       "    <tr>\n",
       "      <th>2</th>\n",
       "      <td>1</td>\n",
       "      <td>1506825426267738</td>\n",
       "      <td>2017-10-01 02:37:06</td>\n",
       "      <td>2</td>\n",
       "      <td>235840</td>\n",
       "      <td>2017-10-01 03:03:37.951</td>\n",
       "      <td>4</td>\n",
       "      <td>1</td>\n",
       "      <td>17</td>\n",
       "      <td>1</td>\n",
       "      <td>16</td>\n",
       "      <td>2</td>\n",
       "      <td>0</td>\n",
       "    </tr>\n",
       "    <tr>\n",
       "      <th>3</th>\n",
       "      <td>1</td>\n",
       "      <td>1506825426267738</td>\n",
       "      <td>2017-10-01 02:37:06</td>\n",
       "      <td>2</td>\n",
       "      <td>96663</td>\n",
       "      <td>2017-10-01 03:04:07.951</td>\n",
       "      <td>4</td>\n",
       "      <td>1</td>\n",
       "      <td>17</td>\n",
       "      <td>1</td>\n",
       "      <td>16</td>\n",
       "      <td>2</td>\n",
       "      <td>0</td>\n",
       "    </tr>\n",
       "    <tr>\n",
       "      <th>4</th>\n",
       "      <td>2</td>\n",
       "      <td>1506825435299739</td>\n",
       "      <td>2017-10-01 02:37:15</td>\n",
       "      <td>2</td>\n",
       "      <td>119592</td>\n",
       "      <td>2017-10-01 03:04:50.575</td>\n",
       "      <td>4</td>\n",
       "      <td>1</td>\n",
       "      <td>17</td>\n",
       "      <td>1</td>\n",
       "      <td>24</td>\n",
       "      <td>2</td>\n",
       "      <td>0</td>\n",
       "    </tr>\n",
       "  </tbody>\n",
       "</table>\n",
       "</div>"
      ],
      "text/plain": [
       "  user_id        session_id       session_start session_size article_id  \\\n",
       "0       0  1506825423271737 2017-10-01 02:37:03            2     157541   \n",
       "1       0  1506825423271737 2017-10-01 02:37:03            2      68866   \n",
       "2       1  1506825426267738 2017-10-01 02:37:06            2     235840   \n",
       "3       1  1506825426267738 2017-10-01 02:37:06            2      96663   \n",
       "4       2  1506825435299739 2017-10-01 02:37:15            2     119592   \n",
       "\n",
       "          click_timestamp click_environment click_deviceGroup click_os  \\\n",
       "0 2017-10-01 03:00:28.020                 4                 3       20   \n",
       "1 2017-10-01 03:00:58.020                 4                 3       20   \n",
       "2 2017-10-01 03:03:37.951                 4                 1       17   \n",
       "3 2017-10-01 03:04:07.951                 4                 1       17   \n",
       "4 2017-10-01 03:04:50.575                 4                 1       17   \n",
       "\n",
       "  click_country click_region click_referrer_type  filename  \n",
       "0             1           20                   2         0  \n",
       "1             1           20                   2         0  \n",
       "2             1           16                   2         0  \n",
       "3             1           16                   2         0  \n",
       "4             1           24                   2         0  "
      ]
     },
     "execution_count": 306,
     "metadata": {},
     "output_type": "execute_result"
    }
   ],
   "source": [
    "# Create filename list and empty list\n",
    "click_filelist = sorted(os.listdir(click_path))\n",
    "click_list = []\n",
    "\n",
    "# Iterate over files in folder and list\n",
    "for i in range(0, len(click_filelist)):\n",
    "    # Read CSV file (i order)\n",
    "    temp = pd.read_csv(click_path / click_filelist[i])\n",
    "    # Create a specific column to track the file number\n",
    "    temp['filename'] = i\n",
    "    # Append to list\n",
    "    click_list.append(temp)\n",
    "\n",
    "# Concate in unique DF\n",
    "clicks = pd.concat(click_list, axis=0, ignore_index=True)\n",
    "\n",
    "# Rename columns\n",
    "clicks.rename(columns={'click_article_id':'article_id'}, inplace=True)\n",
    "\n",
    "# Convert date string to datetime\n",
    "date2convert = ['session_start', 'click_timestamp']\n",
    "for col in date2convert:\n",
    "    clicks[col] = pd.to_datetime(clicks[col], unit='ms')\n",
    "\n",
    "# Display shape and 5 first rows\n",
    "print('Données de clics: ', clicks.shape)\n",
    "clicks.head()"
   ]
  },
  {
   "cell_type": "code",
   "execution_count": 307,
   "id": "bfad2c8b-bf96-47c7-8715-b50c67517655",
   "metadata": {},
   "outputs": [
    {
     "name": "stdout",
     "output_type": "stream",
     "text": [
      "=== Unique values of interactions dataframe ===\n",
      "=================================================================\n",
      "user_id  : 322897\n",
      "session_id  : 1048594\n",
      "session_start  : 646874\n",
      "session_size  : 72\n",
      "article_id  : 46033\n",
      "click_timestamp  : 2983198\n",
      "click_environment  : 3\n",
      "click_deviceGroup  : 5\n",
      "click_os  : 8\n",
      "click_country  : 11\n",
      "click_region  : 28\n",
      "click_referrer_type  : 7\n",
      "filename  : 384\n"
     ]
    }
   ],
   "source": [
    "# Check unique values per column\n",
    "print('=== Unique values of interactions dataframe ===')\n",
    "print('=================================================================')\n",
    "for col in clicks.columns:\n",
    "    print(col, ' :', clicks[col].nunique())"
   ]
  },
  {
   "cell_type": "code",
   "execution_count": 308,
   "id": "34892163-722f-4222-9005-c2c415d51af7",
   "metadata": {},
   "outputs": [],
   "source": [
    "PATH_CLICK_SAMPLE_DATA = \"clicks_sample.csv\"\n",
    "clicks_samp_df = pd.read_csv(PATH_CLICK_SAMPLE_DATA)"
   ]
  },
  {
   "cell_type": "code",
   "execution_count": 309,
   "id": "bb9cc3d0-29c8-4120-abb0-b8a73cc2c6b5",
   "metadata": {},
   "outputs": [
    {
     "data": {
      "text/html": [
       "<div>\n",
       "<style scoped>\n",
       "    .dataframe tbody tr th:only-of-type {\n",
       "        vertical-align: middle;\n",
       "    }\n",
       "\n",
       "    .dataframe tbody tr th {\n",
       "        vertical-align: top;\n",
       "    }\n",
       "\n",
       "    .dataframe thead th {\n",
       "        text-align: right;\n",
       "    }\n",
       "</style>\n",
       "<table border=\"1\" class=\"dataframe\">\n",
       "  <thead>\n",
       "    <tr style=\"text-align: right;\">\n",
       "      <th></th>\n",
       "      <th>user_id</th>\n",
       "      <th>session_id</th>\n",
       "      <th>session_start</th>\n",
       "      <th>session_size</th>\n",
       "      <th>click_article_id</th>\n",
       "      <th>click_timestamp</th>\n",
       "      <th>click_environment</th>\n",
       "      <th>click_deviceGroup</th>\n",
       "      <th>click_os</th>\n",
       "      <th>click_country</th>\n",
       "      <th>click_region</th>\n",
       "      <th>click_referrer_type</th>\n",
       "    </tr>\n",
       "  </thead>\n",
       "  <tbody>\n",
       "    <tr>\n",
       "      <th>0</th>\n",
       "      <td>0</td>\n",
       "      <td>1506825423271737</td>\n",
       "      <td>1506825423000</td>\n",
       "      <td>2</td>\n",
       "      <td>157541</td>\n",
       "      <td>1506826828020</td>\n",
       "      <td>4</td>\n",
       "      <td>3</td>\n",
       "      <td>20</td>\n",
       "      <td>1</td>\n",
       "      <td>20</td>\n",
       "      <td>2</td>\n",
       "    </tr>\n",
       "    <tr>\n",
       "      <th>1</th>\n",
       "      <td>0</td>\n",
       "      <td>1506825423271737</td>\n",
       "      <td>1506825423000</td>\n",
       "      <td>2</td>\n",
       "      <td>68866</td>\n",
       "      <td>1506826858020</td>\n",
       "      <td>4</td>\n",
       "      <td>3</td>\n",
       "      <td>20</td>\n",
       "      <td>1</td>\n",
       "      <td>20</td>\n",
       "      <td>2</td>\n",
       "    </tr>\n",
       "    <tr>\n",
       "      <th>2</th>\n",
       "      <td>1</td>\n",
       "      <td>1506825426267738</td>\n",
       "      <td>1506825426000</td>\n",
       "      <td>2</td>\n",
       "      <td>235840</td>\n",
       "      <td>1506827017951</td>\n",
       "      <td>4</td>\n",
       "      <td>1</td>\n",
       "      <td>17</td>\n",
       "      <td>1</td>\n",
       "      <td>16</td>\n",
       "      <td>2</td>\n",
       "    </tr>\n",
       "    <tr>\n",
       "      <th>3</th>\n",
       "      <td>1</td>\n",
       "      <td>1506825426267738</td>\n",
       "      <td>1506825426000</td>\n",
       "      <td>2</td>\n",
       "      <td>96663</td>\n",
       "      <td>1506827047951</td>\n",
       "      <td>4</td>\n",
       "      <td>1</td>\n",
       "      <td>17</td>\n",
       "      <td>1</td>\n",
       "      <td>16</td>\n",
       "      <td>2</td>\n",
       "    </tr>\n",
       "    <tr>\n",
       "      <th>4</th>\n",
       "      <td>2</td>\n",
       "      <td>1506825435299739</td>\n",
       "      <td>1506825435000</td>\n",
       "      <td>2</td>\n",
       "      <td>119592</td>\n",
       "      <td>1506827090575</td>\n",
       "      <td>4</td>\n",
       "      <td>1</td>\n",
       "      <td>17</td>\n",
       "      <td>1</td>\n",
       "      <td>24</td>\n",
       "      <td>2</td>\n",
       "    </tr>\n",
       "  </tbody>\n",
       "</table>\n",
       "</div>"
      ],
      "text/plain": [
       "   user_id        session_id  session_start  session_size  click_article_id  \\\n",
       "0        0  1506825423271737  1506825423000             2            157541   \n",
       "1        0  1506825423271737  1506825423000             2             68866   \n",
       "2        1  1506825426267738  1506825426000             2            235840   \n",
       "3        1  1506825426267738  1506825426000             2             96663   \n",
       "4        2  1506825435299739  1506825435000             2            119592   \n",
       "\n",
       "   click_timestamp  click_environment  click_deviceGroup  click_os  \\\n",
       "0    1506826828020                  4                  3        20   \n",
       "1    1506826858020                  4                  3        20   \n",
       "2    1506827017951                  4                  1        17   \n",
       "3    1506827047951                  4                  1        17   \n",
       "4    1506827090575                  4                  1        17   \n",
       "\n",
       "   click_country  click_region  click_referrer_type  \n",
       "0              1            20                    2  \n",
       "1              1            20                    2  \n",
       "2              1            16                    2  \n",
       "3              1            16                    2  \n",
       "4              1            24                    2  "
      ]
     },
     "execution_count": 309,
     "metadata": {},
     "output_type": "execute_result"
    }
   ],
   "source": [
    "clicks_samp_df.head(5)"
   ]
  },
  {
   "cell_type": "code",
   "execution_count": 310,
   "id": "25311f96-e2bb-4c6f-85d3-6282b5ddaa7b",
   "metadata": {},
   "outputs": [
    {
     "data": {
      "text/plain": [
       "(1883, 12)"
      ]
     },
     "execution_count": 310,
     "metadata": {},
     "output_type": "execute_result"
    }
   ],
   "source": [
    "clicks_samp_df.shape"
   ]
  },
  {
   "cell_type": "code",
   "execution_count": 311,
   "id": "00746fae-4186-4dc1-9e9c-43eb57abdcb1",
   "metadata": {},
   "outputs": [
    {
     "name": "stdout",
     "output_type": "stream",
     "text": [
      "user_id\n",
      "session_id\n",
      "session_start\n",
      "session_size\n",
      "click_article_id\n",
      "click_timestamp\n",
      "click_environment\n",
      "click_deviceGroup\n",
      "click_os\n",
      "click_country\n",
      "click_region\n",
      "click_referrer_type\n"
     ]
    }
   ],
   "source": [
    "[print(x) for x in clicks_samp_df.columns];"
   ]
  },
  {
   "cell_type": "code",
   "execution_count": 312,
   "id": "bde3ec9f-2116-42c9-880e-0c6b9208f5c8",
   "metadata": {},
   "outputs": [
    {
     "name": "stdout",
     "output_type": "stream",
     "text": [
      "Total PATH contain in list :  385\n",
      "DataFrame shape : (2988181, 2)\n",
      "CPU times: total: 3.25 s\n",
      "Wall time: 4.81 s\n"
     ]
    }
   ],
   "source": [
    "%%time\n",
    "\n",
    "CLICK_FILES_PATH = \"./clicks/clicks/\"\n",
    "\n",
    "#Get all .csv contain in clicks folder\n",
    "click_files = [CLICK_FILES_PATH + x for x in os.listdir(CLICK_FILES_PATH)];\n",
    "\n",
    "#Sort all files PATH contain in list.\n",
    "click_files.sort()\n",
    "\n",
    "#Check if all files are present.\n",
    "print(\"Total PATH contain in list : \", len(click_files))\n",
    "\n",
    "list_click_file_to_df = [pd.read_csv(x, index_col=None, header=0) for x in click_files];\n",
    "\n",
    "#Remove unused columns\n",
    "list_click_file_to_df_cleaned = [x.drop(columns = ['session_id',\n",
    "                                                   'session_start',\n",
    "                                                   'session_size',\n",
    "                                                   'click_timestamp',\n",
    "                                                   'click_environment',\n",
    "                                                   'click_deviceGroup',\n",
    "                                                   'click_os',\n",
    "                                                   'click_country',\n",
    "                                                   'click_region',\n",
    "                                                   'click_referrer_type']) for x in list_click_file_to_df]\n",
    "\n",
    "all_clicks_df = pd.concat(list_click_file_to_df_cleaned, axis=0, ignore_index=True)\n",
    "\n",
    "print(f\"DataFrame shape : {all_clicks_df.shape}\")"
   ]
  },
  {
   "cell_type": "code",
   "execution_count": 313,
   "id": "60a4febe-256d-49c8-b494-a95005f799a9",
   "metadata": {},
   "outputs": [
    {
     "data": {
      "text/html": [
       "<div>\n",
       "<style scoped>\n",
       "    .dataframe tbody tr th:only-of-type {\n",
       "        vertical-align: middle;\n",
       "    }\n",
       "\n",
       "    .dataframe tbody tr th {\n",
       "        vertical-align: top;\n",
       "    }\n",
       "\n",
       "    .dataframe thead th {\n",
       "        text-align: right;\n",
       "    }\n",
       "</style>\n",
       "<table border=\"1\" class=\"dataframe\">\n",
       "  <thead>\n",
       "    <tr style=\"text-align: right;\">\n",
       "      <th></th>\n",
       "      <th>user_id</th>\n",
       "      <th>click_article_id</th>\n",
       "    </tr>\n",
       "  </thead>\n",
       "  <tbody>\n",
       "    <tr>\n",
       "      <th>0</th>\n",
       "      <td>0</td>\n",
       "      <td>157541</td>\n",
       "    </tr>\n",
       "    <tr>\n",
       "      <th>1</th>\n",
       "      <td>0</td>\n",
       "      <td>68866</td>\n",
       "    </tr>\n",
       "    <tr>\n",
       "      <th>2</th>\n",
       "      <td>1</td>\n",
       "      <td>235840</td>\n",
       "    </tr>\n",
       "    <tr>\n",
       "      <th>3</th>\n",
       "      <td>1</td>\n",
       "      <td>96663</td>\n",
       "    </tr>\n",
       "    <tr>\n",
       "      <th>4</th>\n",
       "      <td>2</td>\n",
       "      <td>119592</td>\n",
       "    </tr>\n",
       "  </tbody>\n",
       "</table>\n",
       "</div>"
      ],
      "text/plain": [
       "  user_id click_article_id\n",
       "0       0           157541\n",
       "1       0            68866\n",
       "2       1           235840\n",
       "3       1            96663\n",
       "4       2           119592"
      ]
     },
     "execution_count": 313,
     "metadata": {},
     "output_type": "execute_result"
    }
   ],
   "source": [
    "all_clicks_df.head()"
   ]
  },
  {
   "cell_type": "markdown",
   "id": "cd1424bb-bf4f-4793-86b7-91053519d67e",
   "metadata": {},
   "source": [
    "# technique 1"
   ]
  },
  {
   "cell_type": "markdown",
   "id": "db87c90a-0461-4c40-916b-eefbd7c0e55e",
   "metadata": {},
   "source": [
    "# Content-based : by category"
   ]
  },
  {
   "cell_type": "markdown",
   "id": "65d4ccb9-abd7-4a35-92eb-9076fe7429d8",
   "metadata": {},
   "source": [
    "## préparation des données"
   ]
  },
  {
   "cell_type": "markdown",
   "id": "ee98f8e4-64bc-4598-9750-c642081ec79e",
   "metadata": {},
   "source": [
    "## Combinons tous les fichiers de clics en un seul gros fichier\n"
   ]
  },
  {
   "cell_type": "code",
   "execution_count": 314,
   "id": "46b5c9c5-f6c3-47af-9a60-82964df15285",
   "metadata": {},
   "outputs": [
    {
     "name": "stdout",
     "output_type": "stream",
     "text": [
      "CPU times: total: 2.16 s\n",
      "Wall time: 3.26 s\n"
     ]
    }
   ],
   "source": [
    "%%time\n",
    "\n",
    "if not os.path.exists('clicks.csv'):\n",
    "    clicks_path = []\n",
    "    clicks_dir = \"./clicks/clicks\"\n",
    "\n",
    "    clicks_path = clicks_path + sorted(\n",
    "            [\n",
    "                os.path.join(clicks_dir, fname)\n",
    "                for fname in os.listdir(clicks_dir)\n",
    "                if fname.endswith(\".csv\")\n",
    "            ]\n",
    "        )\n",
    "    print(\"Number of clicks csv:\", len(clicks_path))\n",
    "\n",
    "    _li = []\n",
    "\n",
    "    for filename in clicks_path:\n",
    "        df = pd.read_csv(filename, index_col=None, header=0)\n",
    "        _li.append(df)\n",
    "\n",
    "    clicks = pd.concat(_li, axis=0, ignore_index=True)\n",
    "    clicks.to_csv('clicks.csv')\n",
    "else:\n",
    "    clicks= pd.read_csv('clicks.csv')    "
   ]
  },
  {
   "cell_type": "code",
   "execution_count": 315,
   "id": "dfea9963-a126-43c1-aba1-c904928d99d5",
   "metadata": {},
   "outputs": [
    {
     "data": {
      "text/html": [
       "<div>\n",
       "<style scoped>\n",
       "    .dataframe tbody tr th:only-of-type {\n",
       "        vertical-align: middle;\n",
       "    }\n",
       "\n",
       "    .dataframe tbody tr th {\n",
       "        vertical-align: top;\n",
       "    }\n",
       "\n",
       "    .dataframe thead th {\n",
       "        text-align: right;\n",
       "    }\n",
       "</style>\n",
       "<table border=\"1\" class=\"dataframe\">\n",
       "  <thead>\n",
       "    <tr style=\"text-align: right;\">\n",
       "      <th></th>\n",
       "      <th>Unnamed: 0</th>\n",
       "      <th>user_id</th>\n",
       "      <th>session_id</th>\n",
       "      <th>session_start</th>\n",
       "      <th>session_size</th>\n",
       "      <th>click_article_id</th>\n",
       "      <th>click_timestamp</th>\n",
       "      <th>click_environment</th>\n",
       "      <th>click_deviceGroup</th>\n",
       "      <th>click_os</th>\n",
       "      <th>click_country</th>\n",
       "      <th>click_region</th>\n",
       "      <th>click_referrer_type</th>\n",
       "    </tr>\n",
       "  </thead>\n",
       "  <tbody>\n",
       "    <tr>\n",
       "      <th>0</th>\n",
       "      <td>0</td>\n",
       "      <td>0</td>\n",
       "      <td>1506825423271737</td>\n",
       "      <td>1506825423000</td>\n",
       "      <td>2</td>\n",
       "      <td>157541</td>\n",
       "      <td>1506826828020</td>\n",
       "      <td>4</td>\n",
       "      <td>3</td>\n",
       "      <td>20</td>\n",
       "      <td>1</td>\n",
       "      <td>20</td>\n",
       "      <td>2</td>\n",
       "    </tr>\n",
       "    <tr>\n",
       "      <th>1</th>\n",
       "      <td>1</td>\n",
       "      <td>0</td>\n",
       "      <td>1506825423271737</td>\n",
       "      <td>1506825423000</td>\n",
       "      <td>2</td>\n",
       "      <td>68866</td>\n",
       "      <td>1506826858020</td>\n",
       "      <td>4</td>\n",
       "      <td>3</td>\n",
       "      <td>20</td>\n",
       "      <td>1</td>\n",
       "      <td>20</td>\n",
       "      <td>2</td>\n",
       "    </tr>\n",
       "    <tr>\n",
       "      <th>2</th>\n",
       "      <td>2</td>\n",
       "      <td>1</td>\n",
       "      <td>1506825426267738</td>\n",
       "      <td>1506825426000</td>\n",
       "      <td>2</td>\n",
       "      <td>235840</td>\n",
       "      <td>1506827017951</td>\n",
       "      <td>4</td>\n",
       "      <td>1</td>\n",
       "      <td>17</td>\n",
       "      <td>1</td>\n",
       "      <td>16</td>\n",
       "      <td>2</td>\n",
       "    </tr>\n",
       "    <tr>\n",
       "      <th>3</th>\n",
       "      <td>3</td>\n",
       "      <td>1</td>\n",
       "      <td>1506825426267738</td>\n",
       "      <td>1506825426000</td>\n",
       "      <td>2</td>\n",
       "      <td>96663</td>\n",
       "      <td>1506827047951</td>\n",
       "      <td>4</td>\n",
       "      <td>1</td>\n",
       "      <td>17</td>\n",
       "      <td>1</td>\n",
       "      <td>16</td>\n",
       "      <td>2</td>\n",
       "    </tr>\n",
       "    <tr>\n",
       "      <th>4</th>\n",
       "      <td>4</td>\n",
       "      <td>2</td>\n",
       "      <td>1506825435299739</td>\n",
       "      <td>1506825435000</td>\n",
       "      <td>2</td>\n",
       "      <td>119592</td>\n",
       "      <td>1506827090575</td>\n",
       "      <td>4</td>\n",
       "      <td>1</td>\n",
       "      <td>17</td>\n",
       "      <td>1</td>\n",
       "      <td>24</td>\n",
       "      <td>2</td>\n",
       "    </tr>\n",
       "  </tbody>\n",
       "</table>\n",
       "</div>"
      ],
      "text/plain": [
       "   Unnamed: 0  user_id        session_id  session_start  session_size  \\\n",
       "0           0        0  1506825423271737  1506825423000             2   \n",
       "1           1        0  1506825423271737  1506825423000             2   \n",
       "2           2        1  1506825426267738  1506825426000             2   \n",
       "3           3        1  1506825426267738  1506825426000             2   \n",
       "4           4        2  1506825435299739  1506825435000             2   \n",
       "\n",
       "   click_article_id  click_timestamp  click_environment  click_deviceGroup  \\\n",
       "0            157541    1506826828020                  4                  3   \n",
       "1             68866    1506826858020                  4                  3   \n",
       "2            235840    1506827017951                  4                  1   \n",
       "3             96663    1506827047951                  4                  1   \n",
       "4            119592    1506827090575                  4                  1   \n",
       "\n",
       "   click_os  click_country  click_region  click_referrer_type  \n",
       "0        20              1            20                    2  \n",
       "1        20              1            20                    2  \n",
       "2        17              1            16                    2  \n",
       "3        17              1            16                    2  \n",
       "4        17              1            24                    2  "
      ]
     },
     "execution_count": 315,
     "metadata": {},
     "output_type": "execute_result"
    }
   ],
   "source": [
    "clicks.head()"
   ]
  },
  {
   "cell_type": "markdown",
   "id": "aa39c97b-022c-4b8f-a91f-9916764b155e",
   "metadata": {},
   "source": [
    "## regroupement de chaque clic sur un article par utilisateur.\n"
   ]
  },
  {
   "cell_type": "code",
   "execution_count": 316,
   "id": "13258c62-af9a-44c1-b7b9-4a49af601d2f",
   "metadata": {},
   "outputs": [],
   "source": [
    "df = clicks.groupby('user_id').agg(\n",
    "    LIST_click_article_id = ('click_article_id', lambda x: list(x)),\n",
    ")"
   ]
  },
  {
   "cell_type": "code",
   "execution_count": 317,
   "id": "c8ec7837-2eff-4845-9798-88b45a16d2b7",
   "metadata": {},
   "outputs": [
    {
     "data": {
      "text/html": [
       "<div>\n",
       "<style scoped>\n",
       "    .dataframe tbody tr th:only-of-type {\n",
       "        vertical-align: middle;\n",
       "    }\n",
       "\n",
       "    .dataframe tbody tr th {\n",
       "        vertical-align: top;\n",
       "    }\n",
       "\n",
       "    .dataframe thead th {\n",
       "        text-align: right;\n",
       "    }\n",
       "</style>\n",
       "<table border=\"1\" class=\"dataframe\">\n",
       "  <thead>\n",
       "    <tr style=\"text-align: right;\">\n",
       "      <th></th>\n",
       "      <th>LIST_click_article_id</th>\n",
       "    </tr>\n",
       "    <tr>\n",
       "      <th>user_id</th>\n",
       "      <th></th>\n",
       "    </tr>\n",
       "  </thead>\n",
       "  <tbody>\n",
       "    <tr>\n",
       "      <th>0</th>\n",
       "      <td>[157541, 68866, 96755, 313996, 160158, 233470,...</td>\n",
       "    </tr>\n",
       "    <tr>\n",
       "      <th>1</th>\n",
       "      <td>[235840, 96663, 59758, 160474, 285719, 156723,...</td>\n",
       "    </tr>\n",
       "    <tr>\n",
       "      <th>2</th>\n",
       "      <td>[119592, 30970, 30760, 209122]</td>\n",
       "    </tr>\n",
       "    <tr>\n",
       "      <th>3</th>\n",
       "      <td>[236065, 236294, 234686, 233769, 235665, 23513...</td>\n",
       "    </tr>\n",
       "    <tr>\n",
       "      <th>4</th>\n",
       "      <td>[48915, 44488, 195887, 195084, 63307, 336499, ...</td>\n",
       "    </tr>\n",
       "  </tbody>\n",
       "</table>\n",
       "</div>"
      ],
      "text/plain": [
       "                                     LIST_click_article_id\n",
       "user_id                                                   \n",
       "0        [157541, 68866, 96755, 313996, 160158, 233470,...\n",
       "1        [235840, 96663, 59758, 160474, 285719, 156723,...\n",
       "2                           [119592, 30970, 30760, 209122]\n",
       "3        [236065, 236294, 234686, 233769, 235665, 23513...\n",
       "4        [48915, 44488, 195887, 195084, 63307, 336499, ..."
      ]
     },
     "execution_count": 317,
     "metadata": {},
     "output_type": "execute_result"
    }
   ],
   "source": [
    "df.head()"
   ]
  },
  {
   "cell_type": "code",
   "execution_count": 318,
   "id": "08d0eca3-5426-4d7a-99b7-fb282825af40",
   "metadata": {},
   "outputs": [
    {
     "name": "stdout",
     "output_type": "stream",
     "text": [
      "CPU times: total: 609 ms\n",
      "Wall time: 864 ms\n"
     ]
    }
   ],
   "source": [
    "%%time\n",
    "#Code need optimization\n",
    "\n",
    "if not os.path.exists('df.csv'):\n",
    "    pbar = progressbar.ProgressBar(widgets=[progressbar.Percentage(), progressbar.Bar()], maxval=len(df)).start()\n",
    "    \n",
    "    df['categories'] = ''\n",
    "\n",
    "    for index, row in df.iterrows():\n",
    "        pbar.update(index)\n",
    "        _list_row = []\n",
    "        for article in row.LIST_click_article_id:\n",
    "            _list_row.append(articles_metadata[articles_metadata.article_id == article].category_id.values[0])\n",
    "        df.loc[index]['categories']=_list_row\n",
    "    df.to_csv('df.csv')\n",
    "    pbar.finish()\n",
    "else:\n",
    "    df= pd.read_csv('df.csv')"
   ]
  },
  {
   "cell_type": "code",
   "execution_count": 319,
   "id": "7ba1c783-f1f9-4d3e-a90c-4a45c8af478e",
   "metadata": {},
   "outputs": [
    {
     "data": {
      "text/html": [
       "<div>\n",
       "<style scoped>\n",
       "    .dataframe tbody tr th:only-of-type {\n",
       "        vertical-align: middle;\n",
       "    }\n",
       "\n",
       "    .dataframe tbody tr th {\n",
       "        vertical-align: top;\n",
       "    }\n",
       "\n",
       "    .dataframe thead th {\n",
       "        text-align: right;\n",
       "    }\n",
       "</style>\n",
       "<table border=\"1\" class=\"dataframe\">\n",
       "  <thead>\n",
       "    <tr style=\"text-align: right;\">\n",
       "      <th></th>\n",
       "      <th>user_id</th>\n",
       "      <th>LIST_click_article_id</th>\n",
       "      <th>categories</th>\n",
       "    </tr>\n",
       "  </thead>\n",
       "  <tbody>\n",
       "    <tr>\n",
       "      <th>0</th>\n",
       "      <td>0</td>\n",
       "      <td>[157541, 68866, 96755, 313996, 160158, 233470,...</td>\n",
       "      <td>[281, 136, 209, 431, 281, 375, 186, 186]</td>\n",
       "    </tr>\n",
       "    <tr>\n",
       "      <th>1</th>\n",
       "      <td>1</td>\n",
       "      <td>[235840, 96663, 59758, 160474, 285719, 156723,...</td>\n",
       "      <td>[375, 209, 123, 281, 412, 281, 331, 412, 435, ...</td>\n",
       "    </tr>\n",
       "    <tr>\n",
       "      <th>2</th>\n",
       "      <td>2</td>\n",
       "      <td>[119592, 30970, 30760, 209122]</td>\n",
       "      <td>[247, 26, 26, 332]</td>\n",
       "    </tr>\n",
       "    <tr>\n",
       "      <th>3</th>\n",
       "      <td>3</td>\n",
       "      <td>[236065, 236294, 234686, 233769, 235665, 23513...</td>\n",
       "      <td>[375, 375, 375, 375, 375, 375, 281, 375, 375, ...</td>\n",
       "    </tr>\n",
       "    <tr>\n",
       "      <th>4</th>\n",
       "      <td>4</td>\n",
       "      <td>[48915, 44488, 195887, 195084, 63307, 336499, ...</td>\n",
       "      <td>[92, 81, 317, 317, 132, 437, 399]</td>\n",
       "    </tr>\n",
       "  </tbody>\n",
       "</table>\n",
       "</div>"
      ],
      "text/plain": [
       "   user_id                              LIST_click_article_id  \\\n",
       "0        0  [157541, 68866, 96755, 313996, 160158, 233470,...   \n",
       "1        1  [235840, 96663, 59758, 160474, 285719, 156723,...   \n",
       "2        2                     [119592, 30970, 30760, 209122]   \n",
       "3        3  [236065, 236294, 234686, 233769, 235665, 23513...   \n",
       "4        4  [48915, 44488, 195887, 195084, 63307, 336499, ...   \n",
       "\n",
       "                                          categories  \n",
       "0           [281, 136, 209, 431, 281, 375, 186, 186]  \n",
       "1  [375, 209, 123, 281, 412, 281, 331, 412, 435, ...  \n",
       "2                                 [247, 26, 26, 332]  \n",
       "3  [375, 375, 375, 375, 375, 375, 281, 375, 375, ...  \n",
       "4                  [92, 81, 317, 317, 132, 437, 399]  "
      ]
     },
     "execution_count": 319,
     "metadata": {},
     "output_type": "execute_result"
    }
   ],
   "source": [
    "df.head()"
   ]
  },
  {
   "cell_type": "markdown",
   "id": "df673dab-d058-4688-a4b4-1ff206ad6dfe",
   "metadata": {},
   "source": [
    "## Calcul des clics par utilisateur"
   ]
  },
  {
   "cell_type": "code",
   "execution_count": 320,
   "id": "88d1df54-1ab4-4987-869c-e7b0cacbfd6e",
   "metadata": {},
   "outputs": [],
   "source": [
    "def inputUserRatings(userId):\n",
    "    _matrix = pd.DataFrame(columns=['click'])\n",
    "    _row = df.loc[userId]['categories']\n",
    "    _row = _row.replace('[', '').replace(']', '').replace(',', '').split()\n",
    "    \n",
    "    for index, val in pd.Series(_row).value_counts().items():\n",
    "        _matrix.loc[index] = int(val)\n",
    "         \n",
    "    _matrix['click_norm'] = _matrix.apply(lambda x : x / _matrix['click'].max())\n",
    "    _matrix = _matrix.reset_index()\n",
    "    _matrix = _matrix.rename(columns={\"index\": \"category_id\"})\n",
    "    _matrix['category_id'] = _matrix['category_id'].astype(int)\n",
    "    \n",
    "    return _matrix"
   ]
  },
  {
   "cell_type": "code",
   "execution_count": 321,
   "id": "ed035005-da25-4cde-bb1b-199cd6c329bc",
   "metadata": {},
   "outputs": [
    {
     "data": {
      "text/html": [
       "<div>\n",
       "<style scoped>\n",
       "    .dataframe tbody tr th:only-of-type {\n",
       "        vertical-align: middle;\n",
       "    }\n",
       "\n",
       "    .dataframe tbody tr th {\n",
       "        vertical-align: top;\n",
       "    }\n",
       "\n",
       "    .dataframe thead th {\n",
       "        text-align: right;\n",
       "    }\n",
       "</style>\n",
       "<table border=\"1\" class=\"dataframe\">\n",
       "  <thead>\n",
       "    <tr style=\"text-align: right;\">\n",
       "      <th></th>\n",
       "      <th>category_id</th>\n",
       "      <th>click</th>\n",
       "      <th>click_norm</th>\n",
       "    </tr>\n",
       "  </thead>\n",
       "  <tbody>\n",
       "    <tr>\n",
       "      <th>0</th>\n",
       "      <td>281</td>\n",
       "      <td>2</td>\n",
       "      <td>1.0</td>\n",
       "    </tr>\n",
       "    <tr>\n",
       "      <th>1</th>\n",
       "      <td>186</td>\n",
       "      <td>2</td>\n",
       "      <td>1.0</td>\n",
       "    </tr>\n",
       "    <tr>\n",
       "      <th>2</th>\n",
       "      <td>136</td>\n",
       "      <td>1</td>\n",
       "      <td>0.5</td>\n",
       "    </tr>\n",
       "    <tr>\n",
       "      <th>3</th>\n",
       "      <td>209</td>\n",
       "      <td>1</td>\n",
       "      <td>0.5</td>\n",
       "    </tr>\n",
       "    <tr>\n",
       "      <th>4</th>\n",
       "      <td>431</td>\n",
       "      <td>1</td>\n",
       "      <td>0.5</td>\n",
       "    </tr>\n",
       "    <tr>\n",
       "      <th>5</th>\n",
       "      <td>375</td>\n",
       "      <td>1</td>\n",
       "      <td>0.5</td>\n",
       "    </tr>\n",
       "  </tbody>\n",
       "</table>\n",
       "</div>"
      ],
      "text/plain": [
       "   category_id  click  click_norm\n",
       "0          281      2         1.0\n",
       "1          186      2         1.0\n",
       "2          136      1         0.5\n",
       "3          209      1         0.5\n",
       "4          431      1         0.5\n",
       "5          375      1         0.5"
      ]
     },
     "execution_count": 321,
     "metadata": {},
     "output_type": "execute_result"
    }
   ],
   "source": [
    "inputUserRatings(0)"
   ]
  },
  {
   "cell_type": "markdown",
   "id": "ed876352-e7e1-4ee2-878c-c409be2fe676",
   "metadata": {},
   "source": [
    "## Recommandation des livres parmi les 364 047 livres disponibles en fonction de l'identifiant de catégorie préféré"
   ]
  },
  {
   "cell_type": "code",
   "execution_count": 322,
   "id": "ece2c701-afd3-441a-88a0-61af5de75bc9",
   "metadata": {},
   "outputs": [
    {
     "data": {
      "text/plain": [
       "article_id     int64\n",
       "category_id    int64\n",
       "dtype: object"
      ]
     },
     "metadata": {},
     "output_type": "display_data"
    }
   ],
   "source": [
    "articles_matrix = articles_df.loc[:, ['article_id', 'category_id']]\n",
    "display(articles_matrix.dtypes)"
   ]
  },
  {
   "cell_type": "code",
   "execution_count": 323,
   "id": "cb79978e-139f-4b8e-bb3e-19e2fa716721",
   "metadata": {},
   "outputs": [
    {
     "data": {
      "text/plain": [
       "(364047, 2)"
      ]
     },
     "execution_count": 323,
     "metadata": {},
     "output_type": "execute_result"
    }
   ],
   "source": [
    "articles_matrix.shape"
   ]
  },
  {
   "cell_type": "code",
   "execution_count": 324,
   "id": "96acf869-86d2-4c88-a265-8dad1097526f",
   "metadata": {},
   "outputs": [],
   "source": [
    "def recommend5(userId, articles_matrix):\n",
    "    _input_user_ratings = inputUserRatings(userId)\n",
    "    _articles_matrix = articles_matrix\n",
    "    \n",
    "    # Création du DataFrame _weighed_articles_matrix\n",
    "    _weighed_articles_matrix = pd.DataFrame(columns=['article_id', 'category_id', 'weight'])\n",
    "    _weighed_articles_matrix['article_id'] = _articles_matrix['article_id']\n",
    "    _weighed_articles_matrix['category_id'] = _articles_matrix['category_id']\n",
    "\n",
    "    # Calcul des poids pour chaque catégorie\n",
    "    _weighed_articles_matrix['weight'] = _weighed_articles_matrix['category_id'].apply(lambda x :\n",
    "                                                                                        0                                                                                           \n",
    "                                                                                       if(_input_user_ratings.loc[_input_user_ratings['category_id'] == x].empty)\n",
    "                                                                                       else\n",
    "                                                                                        _input_user_ratings.loc[_input_user_ratings['category_id'] == x].click_norm.values[0]\n",
    "                                                                                      )\n",
    "    \n",
    "    # Filtrage, tri et retour des 5 premiers article_id\n",
    "    return _weighed_articles_matrix[_weighed_articles_matrix['weight'] > 0] \\\n",
    "               .sort_values(by=['weight'], ascending=False) \\\n",
    "               .head(5)['article_id'].tolist()"
   ]
  },
  {
   "cell_type": "markdown",
   "id": "14a93376-fe08-4c09-9d79-a5e6ab44c59d",
   "metadata": {},
   "source": [
    "## resultat de recommandation pour user 1"
   ]
  },
  {
   "cell_type": "code",
   "execution_count": 325,
   "id": "8d9c178c-c5bd-452b-adfe-1e788457a5e0",
   "metadata": {},
   "outputs": [
    {
     "name": "stdout",
     "output_type": "stream",
     "text": [
      "CPU times: total: 1min 1s\n",
      "Wall time: 1min 23s\n"
     ]
    },
    {
     "data": {
      "text/plain": [
       "[158212, 279260, 279246, 279247, 279248]"
      ]
     },
     "execution_count": 325,
     "metadata": {},
     "output_type": "execute_result"
    }
   ],
   "source": [
    "%%time\n",
    "res_technique1 = recommend5(1 , articles_matrix)\n",
    "res_technique1"
   ]
  },
  {
   "cell_type": "markdown",
   "id": "1647a7c9-6d1e-4694-8554-1254ddb7cb22",
   "metadata": {},
   "source": [
    "## cela fonctionne mais cela prend trop de temps. "
   ]
  },
  {
   "cell_type": "markdown",
   "id": "6d43bd21-53bb-4d60-bf88-64afc9618566",
   "metadata": {},
   "source": [
    "- Environ 3 minutes par utilisateur. \n",
    "- Ne fonctionne que si l'utilisateur a peu d'interactions. "
   ]
  },
  {
   "cell_type": "markdown",
   "id": "23f2f28a-1f3a-4c34-a395-e78babf21b57",
   "metadata": {},
   "source": [
    "## **Nous utiliserons le résultat de cet algorithme pour comparer avec les algorithmes suivants.**"
   ]
  },
  {
   "cell_type": "markdown",
   "id": "1dbc4be2-d76e-45cb-a998-fe8c99350386",
   "metadata": {},
   "source": [
    "# technique 2"
   ]
  },
  {
   "cell_type": "markdown",
   "id": "c9682468-2df2-44ca-8df8-eace83f47405",
   "metadata": {},
   "source": [
    "## Content-based recommendation system avec le fichier articles embedding \"embeddings pickle\""
   ]
  },
  {
   "cell_type": "markdown",
   "id": "f1d1c064-943d-4f14-bf6d-f856c6efd77a",
   "metadata": {},
   "source": [
    "## Methode 1"
   ]
  },
  {
   "cell_type": "code",
   "execution_count": 326,
   "id": "93631b70-8d5a-4230-ba67-8cadf51e0217",
   "metadata": {},
   "outputs": [
    {
     "data": {
      "text/plain": [
       "(364047, 250)"
      ]
     },
     "execution_count": 326,
     "metadata": {},
     "output_type": "execute_result"
    }
   ],
   "source": [
    "pickle = pd.read_pickle('articles_embeddings.pickle')\n",
    "pickle.shape"
   ]
  },
  {
   "cell_type": "code",
   "execution_count": 327,
   "id": "c6563530-0e2b-4b2c-bf90-81cb011a3e3d",
   "metadata": {},
   "outputs": [],
   "source": [
    "def find_top_n_indices(data, top=5):\n",
    "    indexed = enumerate(data)\n",
    "    sorted_data = sorted(indexed, \n",
    "                         key=itemgetter(1), \n",
    "                         reverse=True) \n",
    "    return [d[0] for d in sorted_data[:top]] "
   ]
  },
  {
   "cell_type": "code",
   "execution_count": 328,
   "id": "3f6f97c8-4967-4be0-ac30-6445bc74de45",
   "metadata": {},
   "outputs": [],
   "source": [
    "def recommendFromArticle(article_id, top):\n",
    "    score = []\n",
    "    for i in range(0, len(pickle)):\n",
    "        if(article_id != i):\n",
    "            cos_sim = np.dot(pickle[article_id], pickle[i])/(np.linalg.norm(pickle[article_id])*np.linalg.norm(pickle[i]))\n",
    "            score.append(cos_sim)\n",
    "    \n",
    "    _best_scores = find_top_n_indices(score, top)\n",
    "            \n",
    "    return _best_scores"
   ]
  },
  {
   "cell_type": "markdown",
   "id": "48855905-7644-40b1-a1df-9f4c474bc848",
   "metadata": {},
   "source": [
    "## resultat de recommandation pour article 1"
   ]
  },
  {
   "cell_type": "code",
   "execution_count": 329,
   "id": "3bec4014-0609-4a95-823b-32b18edaed2e",
   "metadata": {},
   "outputs": [
    {
     "data": {
      "text/plain": [
       "[7209, 7125, 303002, 244379, 109452]"
      ]
     },
     "execution_count": 329,
     "metadata": {},
     "output_type": "execute_result"
    }
   ],
   "source": [
    "res_technique2_methode1 = recommendFromArticle(1, 5)\n",
    "res_technique2_methode1"
   ]
  },
  {
   "cell_type": "markdown",
   "id": "ba2fedce-26fb-40a9-96ee-78768e86eab6",
   "metadata": {},
   "source": [
    "## Methode 2 Creating a linear kernel"
   ]
  },
  {
   "cell_type": "markdown",
   "id": "c900a03e-20ab-49e4-bac9-8b42943abd2f",
   "metadata": {},
   "source": [
    "### en raison de l'utilisation de la memoire nous sommes contraints d'utiliser un echantillon"
   ]
  },
  {
   "cell_type": "code",
   "execution_count": 330,
   "id": "2bf564e8-64a9-4494-ac20-3a8f52646e4a",
   "metadata": {},
   "outputs": [
    {
     "data": {
      "text/plain": [
       "(50000, 50000)"
      ]
     },
     "execution_count": 330,
     "metadata": {},
     "output_type": "execute_result"
    }
   ],
   "source": [
    "cosine_similarities = linear_kernel(pickle[:50000], pickle[:50000]) \n",
    "cosine_similarities.shape"
   ]
  },
  {
   "cell_type": "code",
   "execution_count": 331,
   "id": "534b7c22-501f-4e3f-bdb2-c2fdaefd0552",
   "metadata": {},
   "outputs": [],
   "source": [
    "titles = articles_df['article_id']\n",
    "indices = pd.Series(articles_df.index, index=articles_df['article_id'])"
   ]
  },
  {
   "cell_type": "code",
   "execution_count": 332,
   "id": "1f48e478-0ba6-4bb1-ba39-d77ea43aece5",
   "metadata": {},
   "outputs": [],
   "source": [
    "def simScores(title):\n",
    "    idx = indices[title]\n",
    "    sim_scores = list(enumerate(cosine_similarities[idx]))\n",
    "    sim_scores = sorted(sim_scores, key=lambda x: x[1], reverse=True)\n",
    "    sim_scores = sim_scores[1:21]\n",
    "    \n",
    "    return sim_scores\n",
    "    print(sim_scores)\n",
    "\n",
    "def predictWSimScores(userId):\n",
    "    _input_user_ratings = inputUserRatings(userId)\n",
    "    _result = []\n",
    "    for index, row in _input_user_ratings.iterrows():\n",
    "        _x = simScores(row.category_id)\n",
    "        for i in range(1, int(row.click)):\n",
    "            _result = _result + _x\n",
    "    df_result = pd.DataFrame(_result, columns =['category_id', 'score']).groupby('category_id').mean().sort_values('score',ascending=False).head(5)\n",
    "    return df_result"
   ]
  },
  {
   "cell_type": "code",
   "execution_count": 333,
   "id": "0d1ec36c-0d88-4da2-80ae-3966814a21fd",
   "metadata": {},
   "outputs": [
    {
     "data": {
      "text/html": [
       "<div>\n",
       "<style scoped>\n",
       "    .dataframe tbody tr th:only-of-type {\n",
       "        vertical-align: middle;\n",
       "    }\n",
       "\n",
       "    .dataframe tbody tr th {\n",
       "        vertical-align: top;\n",
       "    }\n",
       "\n",
       "    .dataframe thead th {\n",
       "        text-align: right;\n",
       "    }\n",
       "</style>\n",
       "<table border=\"1\" class=\"dataframe\">\n",
       "  <thead>\n",
       "    <tr style=\"text-align: right;\">\n",
       "      <th></th>\n",
       "      <th>user_id</th>\n",
       "      <th>LIST_click_article_id</th>\n",
       "      <th>categories</th>\n",
       "    </tr>\n",
       "  </thead>\n",
       "  <tbody>\n",
       "    <tr>\n",
       "      <th>0</th>\n",
       "      <td>0</td>\n",
       "      <td>[157541, 68866, 96755, 313996, 160158, 233470,...</td>\n",
       "      <td>[281, 136, 209, 431, 281, 375, 186, 186]</td>\n",
       "    </tr>\n",
       "    <tr>\n",
       "      <th>1</th>\n",
       "      <td>1</td>\n",
       "      <td>[235840, 96663, 59758, 160474, 285719, 156723,...</td>\n",
       "      <td>[375, 209, 123, 281, 412, 281, 331, 412, 435, ...</td>\n",
       "    </tr>\n",
       "    <tr>\n",
       "      <th>2</th>\n",
       "      <td>2</td>\n",
       "      <td>[119592, 30970, 30760, 209122]</td>\n",
       "      <td>[247, 26, 26, 332]</td>\n",
       "    </tr>\n",
       "    <tr>\n",
       "      <th>3</th>\n",
       "      <td>3</td>\n",
       "      <td>[236065, 236294, 234686, 233769, 235665, 23513...</td>\n",
       "      <td>[375, 375, 375, 375, 375, 375, 281, 375, 375, ...</td>\n",
       "    </tr>\n",
       "    <tr>\n",
       "      <th>4</th>\n",
       "      <td>4</td>\n",
       "      <td>[48915, 44488, 195887, 195084, 63307, 336499, ...</td>\n",
       "      <td>[92, 81, 317, 317, 132, 437, 399]</td>\n",
       "    </tr>\n",
       "  </tbody>\n",
       "</table>\n",
       "</div>"
      ],
      "text/plain": [
       "   user_id                              LIST_click_article_id  \\\n",
       "0        0  [157541, 68866, 96755, 313996, 160158, 233470,...   \n",
       "1        1  [235840, 96663, 59758, 160474, 285719, 156723,...   \n",
       "2        2                     [119592, 30970, 30760, 209122]   \n",
       "3        3  [236065, 236294, 234686, 233769, 235665, 23513...   \n",
       "4        4  [48915, 44488, 195887, 195084, 63307, 336499, ...   \n",
       "\n",
       "                                          categories  \n",
       "0           [281, 136, 209, 431, 281, 375, 186, 186]  \n",
       "1  [375, 209, 123, 281, 412, 281, 331, 412, 435, ...  \n",
       "2                                 [247, 26, 26, 332]  \n",
       "3  [375, 375, 375, 375, 375, 375, 281, 375, 375, ...  \n",
       "4                  [92, 81, 317, 317, 132, 437, 399]  "
      ]
     },
     "execution_count": 333,
     "metadata": {},
     "output_type": "execute_result"
    }
   ],
   "source": [
    "df.head()"
   ]
  },
  {
   "cell_type": "markdown",
   "id": "a1d07d93-62d5-4a85-b9a1-d8a7f738a944",
   "metadata": {},
   "source": [
    "## resultat de recommandation pour user 1"
   ]
  },
  {
   "cell_type": "code",
   "execution_count": 335,
   "id": "fe8fbd8c-f029-443f-af5c-1f62670ab824",
   "metadata": {},
   "outputs": [
    {
     "data": {
      "text/html": [
       "<div>\n",
       "<style scoped>\n",
       "    .dataframe tbody tr th:only-of-type {\n",
       "        vertical-align: middle;\n",
       "    }\n",
       "\n",
       "    .dataframe tbody tr th {\n",
       "        vertical-align: top;\n",
       "    }\n",
       "\n",
       "    .dataframe thead th {\n",
       "        text-align: right;\n",
       "    }\n",
       "</style>\n",
       "<table border=\"1\" class=\"dataframe\">\n",
       "  <thead>\n",
       "    <tr style=\"text-align: right;\">\n",
       "      <th></th>\n",
       "      <th>score</th>\n",
       "    </tr>\n",
       "    <tr>\n",
       "      <th>category_id</th>\n",
       "      <th></th>\n",
       "    </tr>\n",
       "  </thead>\n",
       "  <tbody>\n",
       "    <tr>\n",
       "      <th>1386</th>\n",
       "      <td>67.031746</td>\n",
       "    </tr>\n",
       "    <tr>\n",
       "      <th>1218</th>\n",
       "      <td>66.698814</td>\n",
       "    </tr>\n",
       "    <tr>\n",
       "      <th>1121</th>\n",
       "      <td>66.558762</td>\n",
       "    </tr>\n",
       "    <tr>\n",
       "      <th>1274</th>\n",
       "      <td>66.530884</td>\n",
       "    </tr>\n",
       "    <tr>\n",
       "      <th>375</th>\n",
       "      <td>66.304886</td>\n",
       "    </tr>\n",
       "  </tbody>\n",
       "</table>\n",
       "</div>"
      ],
      "text/plain": [
       "                 score\n",
       "category_id           \n",
       "1386         67.031746\n",
       "1218         66.698814\n",
       "1121         66.558762\n",
       "1274         66.530884\n",
       "375          66.304886"
      ]
     },
     "execution_count": 335,
     "metadata": {},
     "output_type": "execute_result"
    }
   ],
   "source": [
    "res_technique2_methode2 = predictWSimScores(1)\n",
    "res_technique2_methode2"
   ]
  },
  {
   "cell_type": "code",
   "execution_count": 336,
   "id": "1b280990-952c-48d3-bdda-41d041582e45",
   "metadata": {},
   "outputs": [
    {
     "data": {
      "text/plain": [
       "[1386, 1218, 1121, 1274, 375]"
      ]
     },
     "execution_count": 336,
     "metadata": {},
     "output_type": "execute_result"
    }
   ],
   "source": [
    "res_technique2_methode2.index.to_list()"
   ]
  },
  {
   "cell_type": "markdown",
   "id": "3e4e1a25-4b6b-4d8c-b2e7-16b8dad6d1f8",
   "metadata": {},
   "source": [
    "# technique 3: SVD (Collaborative filtering)"
   ]
  },
  {
   "cell_type": "code",
   "execution_count": 338,
   "id": "141cd52a-8bb6-4917-acf8-a4d1228046f8",
   "metadata": {},
   "outputs": [
    {
     "name": "stdout",
     "output_type": "stream",
     "text": [
      "Shape before dropping duplicate : (2988181, 6)\n",
      "Shape after dropping duplicate : (1882302, 5)\n"
     ]
    }
   ],
   "source": [
    "#Create a map to convert article_id to category\n",
    "dict_article_categories = articles_df.set_index('article_id')['category_id'].to_dict()\n",
    "\n",
    "#Get Categorie associate for each article\n",
    "all_clicks_df['category_id'] = all_clicks_df['click_article_id'].map(dict_article_categories).astype(int)\n",
    "all_clicks_df['total_click'] = all_clicks_df.groupby(['user_id'])['click_article_id'].transform('count')\n",
    "all_clicks_df['total_click_by_category_id'] = all_clicks_df.groupby(['user_id','category_id'])['click_article_id'].transform('count')\n",
    "all_clicks_df['rating'] = all_clicks_df['total_click_by_category_id'] / all_clicks_df['total_click']\n",
    "\n",
    "print(f'Shape before dropping duplicate : {all_clicks_df.shape}')\n",
    "all_clicks_df = all_clicks_df.drop(['click_article_id'], axis=1)\n",
    "all_clicks_df = all_clicks_df.drop_duplicates()\n",
    "print(f'Shape after dropping duplicate : {all_clicks_df.shape}')"
   ]
  },
  {
   "cell_type": "code",
   "execution_count": 339,
   "id": "bde65034-a67d-4785-b3ce-7b8e65274542",
   "metadata": {},
   "outputs": [
    {
     "data": {
      "text/html": [
       "<div>\n",
       "<style scoped>\n",
       "    .dataframe tbody tr th:only-of-type {\n",
       "        vertical-align: middle;\n",
       "    }\n",
       "\n",
       "    .dataframe tbody tr th {\n",
       "        vertical-align: top;\n",
       "    }\n",
       "\n",
       "    .dataframe thead th {\n",
       "        text-align: right;\n",
       "    }\n",
       "</style>\n",
       "<table border=\"1\" class=\"dataframe\">\n",
       "  <thead>\n",
       "    <tr style=\"text-align: right;\">\n",
       "      <th></th>\n",
       "      <th>user_id</th>\n",
       "      <th>category_id</th>\n",
       "      <th>rating</th>\n",
       "    </tr>\n",
       "  </thead>\n",
       "  <tbody>\n",
       "    <tr>\n",
       "      <th>0</th>\n",
       "      <td>0</td>\n",
       "      <td>281</td>\n",
       "      <td>0.250</td>\n",
       "    </tr>\n",
       "    <tr>\n",
       "      <th>1</th>\n",
       "      <td>0</td>\n",
       "      <td>136</td>\n",
       "      <td>0.125</td>\n",
       "    </tr>\n",
       "    <tr>\n",
       "      <th>1287361</th>\n",
       "      <td>0</td>\n",
       "      <td>209</td>\n",
       "      <td>0.125</td>\n",
       "    </tr>\n",
       "    <tr>\n",
       "      <th>1287362</th>\n",
       "      <td>0</td>\n",
       "      <td>431</td>\n",
       "      <td>0.125</td>\n",
       "    </tr>\n",
       "    <tr>\n",
       "      <th>1352198</th>\n",
       "      <td>0</td>\n",
       "      <td>375</td>\n",
       "      <td>0.125</td>\n",
       "    </tr>\n",
       "    <tr>\n",
       "      <th>1535240</th>\n",
       "      <td>0</td>\n",
       "      <td>186</td>\n",
       "      <td>0.250</td>\n",
       "    </tr>\n",
       "  </tbody>\n",
       "</table>\n",
       "</div>"
      ],
      "text/plain": [
       "        user_id  category_id  rating\n",
       "0             0          281   0.250\n",
       "1             0          136   0.125\n",
       "1287361       0          209   0.125\n",
       "1287362       0          431   0.125\n",
       "1352198       0          375   0.125\n",
       "1535240       0          186   0.250"
      ]
     },
     "execution_count": 339,
     "metadata": {},
     "output_type": "execute_result"
    }
   ],
   "source": [
    "#Remove not used columns\n",
    "all_clicks_df = all_clicks_df.drop(['total_click', 'total_click_by_category_id'], axis=1)\n",
    "\n",
    "all_clicks_df[all_clicks_df['user_id'] == 0]"
   ]
  },
  {
   "cell_type": "code",
   "execution_count": 340,
   "id": "0d118e5a-6e4f-49ba-b532-23f43adfd701",
   "metadata": {},
   "outputs": [
    {
     "name": "stdout",
     "output_type": "stream",
     "text": [
      "size of our sample : (404149, 3)\n"
     ]
    }
   ],
   "source": [
    "#keep 40 000 users to build our model.\n",
    "df_rating = all_clicks_df[all_clicks_df['user_id'] < 40000]\n",
    "print(f'size of our sample : {df_rating.shape}')"
   ]
  },
  {
   "cell_type": "code",
   "execution_count": 341,
   "id": "05498182-af2d-43d4-84e1-7c29e2b0843e",
   "metadata": {},
   "outputs": [
    {
     "name": "stdout",
     "output_type": "stream",
     "text": [
      "Size of test set : 101038\n",
      "type of train_set : <class 'surprise.trainset.Trainset'>\n"
     ]
    }
   ],
   "source": [
    "# A reader is still needed but only the rating_scale param is requiered.\n",
    "reader = Reader(rating_scale=(0, 1))\n",
    "\n",
    "#Split our Dataframe 75% train / 25% test\n",
    "data = Dataset.load_from_df(df_rating[['user_id', 'category_id', 'rating']], reader)\n",
    "train_set, test_set = train_test_split(data, test_size=.25)\n",
    "print(f'Size of test set : {len(test_set)}')\n",
    "print(f'type of train_set : {type(train_set)}')"
   ]
  },
  {
   "cell_type": "markdown",
   "id": "d9f05038-7590-463c-ba69-cb74ceb96f01",
   "metadata": {},
   "source": [
    "## entrainement du Model"
   ]
  },
  {
   "cell_type": "code",
   "execution_count": 342,
   "id": "f127259b-9e0e-4e3f-9fa7-7d68f68cb6bf",
   "metadata": {},
   "outputs": [
    {
     "name": "stdout",
     "output_type": "stream",
     "text": [
      "CPU times: total: 5.03 s\n",
      "Wall time: 8.87 s\n"
     ]
    }
   ],
   "source": [
    "%%time\n",
    "\n",
    "model = SVD().fit(train_set)"
   ]
  },
  {
   "cell_type": "markdown",
   "id": "9df2a142-87c3-41d5-a3bd-1eea2b1bae90",
   "metadata": {},
   "source": [
    "##  Resultats"
   ]
  },
  {
   "cell_type": "code",
   "execution_count": 343,
   "id": "2ff31767-bfc9-4939-83c6-e73c3e675e63",
   "metadata": {},
   "outputs": [
    {
     "name": "stdout",
     "output_type": "stream",
     "text": [
      "RMSE: 0.1984\n",
      "MSE: 0.0394\n",
      "MAE:  0.1574\n",
      "Prediction rating for User 0 with cat 281 : 0.6040235298860932\n",
      "Current rating : [0.25]\n"
     ]
    }
   ],
   "source": [
    "predict = model.test(test_set)\n",
    "\n",
    "#Print our Results\n",
    "rmse_svd = accuracy.rmse(predict)\n",
    "mse_svd = accuracy.mse(predict)\n",
    "mae_svd = accuracy.mae(predict);\n",
    "\n",
    "print(f'Prediction rating for User 0 with cat 281 : {model.predict(0, 281).est}')\n",
    "print(f'Current rating : {df_rating[(df_rating[\"user_id\"] == 0) & (df_rating[\"category_id\"] == 281)][\"rating\"].values}')"
   ]
  },
  {
   "cell_type": "markdown",
   "id": "9e566518-d0d3-4ca6-9443-d3f4bf6f889a",
   "metadata": {},
   "source": [
    "## Predictions avec test set"
   ]
  },
  {
   "cell_type": "code",
   "execution_count": 344,
   "id": "3546ed25-ea71-4cc5-9e53-b1f04bd3c645",
   "metadata": {},
   "outputs": [],
   "source": [
    "#Function from https://github.com/NicolasHug/Surprise/blob/master/examples/top_n_recommendations.py\n",
    "def get_top_n(predictions, n=10):\n",
    "    \"\"\"Return the top-N recommendation for each user from a set of predictions.\n",
    "    Args:\n",
    "        predictions(list of Prediction objects): The list of predictions, as\n",
    "            returned by the test method of an algorithm.\n",
    "        n(int): The number of recommendation to output for each user. Default\n",
    "            is 10.\n",
    "    Returns:\n",
    "    A dict where keys are user (raw) ids and values are lists of tuples:\n",
    "        [(raw item id, rating estimation), ...] of size n.\n",
    "    \"\"\"\n",
    "\n",
    "    # First map the predictions to each user.\n",
    "    top_n = defaultdict(list)\n",
    "    for uid, iid, true_r, est, _ in predictions:\n",
    "        top_n[uid].append((iid, est))\n",
    "\n",
    "    # Then sort the predictions for each user and retrieve the k highest ones.\n",
    "    for uid, user_ratings in top_n.items():\n",
    "        user_ratings.sort(key=lambda x: x[1], reverse=True)\n",
    "        top_n[uid] = user_ratings[:n]\n",
    "\n",
    "    return top_n"
   ]
  },
  {
   "cell_type": "code",
   "execution_count": 345,
   "id": "87a3ffb1-834e-4160-86ca-f5a2989270f3",
   "metadata": {},
   "outputs": [],
   "source": [
    "top_n = get_top_n(predict, n=10)"
   ]
  },
  {
   "cell_type": "code",
   "execution_count": 346,
   "id": "1aa8f84a-1d8e-425e-9c82-002611ce3419",
   "metadata": {},
   "outputs": [],
   "source": [
    "#Make simple recommendation for user.\n",
    "def make_recommendation(user_ID, top_n, df_rating, articles_df):\n",
    "    \"\"\"Return a list of recommanded articles based on the taste of the user and all recommended categories\n",
    "    Args:\n",
    "        user_id -> user id used for recommendation\n",
    "        top_n -> top-N recommendation for each user from a set of predictions\n",
    "        df_rating -> df used to train our algo\n",
    "        articles_df -> df with metadata of all articles.\n",
    "    Returns:\n",
    "        list(recommanded articles), list(recommanded categories)\n",
    "    \"\"\"\n",
    "    #Get top 5 cat and adding it to our list\n",
    "    recommanded_cat = [iid for iid, _ in top_n[user_ID]]\n",
    "    \n",
    "    #If we don't have any recommandation, use our data.\n",
    "    if not recommanded_cat:\n",
    "        recommanded_cat = df[df['user_id'] == user_ID].nlargest(1, ['rating'])['category_id'].values\n",
    "    \n",
    "    #Select 5 randoms articles for each recommanded cat.\n",
    "    random_articles_by_cat = [articles_df[articles_df['category_id'] == x]['article_id'].sample(5).values for x in recommanded_cat]\n",
    "    \n",
    "    #Select one of the recommanded cat and return 5 articles.\n",
    "    rand_category = random.sample(random_articles_by_cat, 1)\n",
    "    \n",
    "    return rand_category[0], recommanded_cat"
   ]
  },
  {
   "cell_type": "markdown",
   "id": "86d437c9-b0b2-4f9d-a375-8eb70726c981",
   "metadata": {},
   "source": [
    "## resultat de recommandation pour user 1"
   ]
  },
  {
   "cell_type": "code",
   "execution_count": 347,
   "id": "eda98eac-5458-4def-b190-f401a88b9df3",
   "metadata": {},
   "outputs": [
    {
     "name": "stdout",
     "output_type": "stream",
     "text": [
      "recommanded categories for user_id[1] : [331, 375]\n",
      "recommanded articles for user_id[1] : [205348 204365 205514 206952 207213]\n"
     ]
    }
   ],
   "source": [
    "res_technique3, categories = make_recommendation(1, top_n, df_rating, articles_df)\n",
    "print(f'recommanded categories for user_id[1] : {categories}')\n",
    "print(f'recommanded articles for user_id[1] : {res_technique3}')"
   ]
  },
  {
   "cell_type": "markdown",
   "id": "c4fc72da-0216-4c1c-a415-8aff6b944376",
   "metadata": {},
   "source": [
    "# technique 4: KNNWithMeans (Collaborative filtering)"
   ]
  },
  {
   "cell_type": "markdown",
   "id": "b5406c7c-c056-4600-a59d-b8e9b5502a80",
   "metadata": {},
   "source": [
    "## entrainement du Model"
   ]
  },
  {
   "cell_type": "code",
   "execution_count": 348,
   "id": "8c09ab3e-fa43-4b23-a442-dd0461b1af82",
   "metadata": {},
   "outputs": [
    {
     "name": "stdout",
     "output_type": "stream",
     "text": [
      "Computing the cosine similarity matrix...\n",
      "Done computing similarity matrix.\n",
      "CPU times: total: 281 ms\n",
      "Wall time: 873 ms\n"
     ]
    }
   ],
   "source": [
    "%%time \n",
    "\n",
    "# To use item-based cosine similarity\n",
    "sim_options = {\n",
    "    \"name\": \"cosine\",\n",
    "    \"user_based\": False,  # Compute similarities between items\n",
    "}\n",
    "\n",
    "model = KNNWithMeans(sim_options=sim_options).fit(train_set)"
   ]
  },
  {
   "cell_type": "markdown",
   "id": "b0e6fb5c-20fb-46a7-a279-f0a4289cb04d",
   "metadata": {},
   "source": [
    "##  Resultats"
   ]
  },
  {
   "cell_type": "code",
   "execution_count": 349,
   "id": "c47c31be-57bc-4832-ba9f-f39edd32af74",
   "metadata": {},
   "outputs": [
    {
     "name": "stdout",
     "output_type": "stream",
     "text": [
      "RMSE: 0.0966\n",
      "MSE: 0.0093\n",
      "MAE:  0.0497\n"
     ]
    }
   ],
   "source": [
    "predict = model.test(test_set)\n",
    "\n",
    "#Print our Results\n",
    "rmse_KNNWithMeans = accuracy.rmse(predict)\n",
    "mse_KNNWithMeans = accuracy.mse(predict)\n",
    "mae_KNNWithMeans = accuracy.mae(predict);"
   ]
  },
  {
   "cell_type": "code",
   "execution_count": 350,
   "id": "fc62cde8-ecc2-4763-b02e-cd8bf449bc0c",
   "metadata": {},
   "outputs": [
    {
     "name": "stdout",
     "output_type": "stream",
     "text": [
      "Prediction rating for User 0 with cat 281 : 0.2658465045877812\n",
      "Current rating : [0.25]\n"
     ]
    }
   ],
   "source": [
    "print(f'Prediction rating for User 0 with cat 281 : {model.predict(0, 281).est}')\n",
    "print(f'Current rating : {df_rating[(df_rating[\"user_id\"] == 0) & (df_rating[\"category_id\"] == 281)][\"rating\"].values}')"
   ]
  },
  {
   "cell_type": "markdown",
   "id": "04f7c1c0-2ddc-4c30-9879-2babdcf6424e",
   "metadata": {},
   "source": [
    "##  Prediction avec testSet"
   ]
  },
  {
   "cell_type": "code",
   "execution_count": 351,
   "id": "55713176-947e-4239-bfb9-54e95ee0c308",
   "metadata": {},
   "outputs": [],
   "source": [
    "top_n = get_top_n(predict, n=10)"
   ]
  },
  {
   "cell_type": "markdown",
   "id": "3acf7a53-a7d9-43d6-9865-7bd8c1df1d72",
   "metadata": {},
   "source": [
    "## resultat de recommandation pour user 1"
   ]
  },
  {
   "cell_type": "code",
   "execution_count": 352,
   "id": "831aa7ef-d7c4-4392-bac7-d8045f5931c4",
   "metadata": {},
   "outputs": [
    {
     "name": "stdout",
     "output_type": "stream",
     "text": [
      "recommanded categories for user_id[1] : [331, 375]\n",
      "recommanded articles for user_id[1] : [205636 206015 207622 204641 206567]\n"
     ]
    }
   ],
   "source": [
    "res_technique4, categories = make_recommendation(1, top_n, df_rating, articles_df)\n",
    "\n",
    "print(f'recommanded categories for user_id[1] : {categories}')\n",
    "print(f'recommanded articles for user_id[1] : {res_technique4}')"
   ]
  },
  {
   "cell_type": "markdown",
   "id": "4e30615c-ea04-4ae2-bde9-25e670016b2e",
   "metadata": {},
   "source": [
    "# synthèse des recommandations et métriques pour les differents modèles"
   ]
  },
  {
   "cell_type": "code",
   "execution_count": 389,
   "id": "62ab3a81-5856-4d71-95af-f77ce853ae26",
   "metadata": {},
   "outputs": [],
   "source": [
    "# 1. DataFrame des métriques\n",
    "data_metrics = {\n",
    "    'Technique/modèle': ['SVD', 'KNNWithMeans'],\n",
    "    'RMSE': [rmse_svd, rmse_KNNWithMeans],\n",
    "    'MSE': [mse_svd, mse_KNNWithMeans],\n",
    "    'MAE': [mae_svd, mae_KNNWithMeans]\n",
    "}\n",
    "\n",
    "df_metrics = pd.DataFrame(data_metrics)"
   ]
  },
  {
   "cell_type": "code",
   "execution_count": 390,
   "id": "02a2e6cd-2ec9-4b2c-b073-7c327e34d8df",
   "metadata": {},
   "outputs": [
    {
     "name": "stdout",
     "output_type": "stream",
     "text": [
      "DataFrame des Métriques :\n"
     ]
    },
    {
     "data": {
      "text/html": [
       "<div>\n",
       "<style scoped>\n",
       "    .dataframe tbody tr th:only-of-type {\n",
       "        vertical-align: middle;\n",
       "    }\n",
       "\n",
       "    .dataframe tbody tr th {\n",
       "        vertical-align: top;\n",
       "    }\n",
       "\n",
       "    .dataframe thead th {\n",
       "        text-align: right;\n",
       "    }\n",
       "</style>\n",
       "<table border=\"1\" class=\"dataframe\">\n",
       "  <thead>\n",
       "    <tr style=\"text-align: right;\">\n",
       "      <th></th>\n",
       "      <th>Technique/modèle</th>\n",
       "      <th>RMSE</th>\n",
       "      <th>MSE</th>\n",
       "      <th>MAE</th>\n",
       "    </tr>\n",
       "  </thead>\n",
       "  <tbody>\n",
       "    <tr>\n",
       "      <th>0</th>\n",
       "      <td>SVD</td>\n",
       "      <td>0.198445</td>\n",
       "      <td>0.039381</td>\n",
       "      <td>0.157382</td>\n",
       "    </tr>\n",
       "    <tr>\n",
       "      <th>1</th>\n",
       "      <td>KNNWithMeans</td>\n",
       "      <td>0.096647</td>\n",
       "      <td>0.009341</td>\n",
       "      <td>0.049717</td>\n",
       "    </tr>\n",
       "  </tbody>\n",
       "</table>\n",
       "</div>"
      ],
      "text/plain": [
       "  Technique/modèle      RMSE       MSE       MAE\n",
       "0              SVD  0.198445  0.039381  0.157382\n",
       "1     KNNWithMeans  0.096647  0.009341  0.049717"
      ]
     },
     "execution_count": 390,
     "metadata": {},
     "output_type": "execute_result"
    }
   ],
   "source": [
    "print(\"DataFrame des Métriques :\")\n",
    "df_metrics"
   ]
  },
  {
   "cell_type": "markdown",
   "id": "9ba07769-36b1-4ba0-96a6-1dd2fdbea4ab",
   "metadata": {},
   "source": [
    "### au vu des resultats de ces metriques (les 3 metriques sont plus faibles), nous considerons que le modele KNN est plus le performant."
   ]
  },
  {
   "cell_type": "code",
   "execution_count": 391,
   "id": "e9ba834f-ad78-44b6-96ae-699d8d0b2569",
   "metadata": {},
   "outputs": [],
   "source": [
    "# 2. DataFrame des recommandations\n",
    "data_recommendations = {\n",
    "    'Technique/modèle': ['Content-based', 'Cosine Similarity', 'SVD', 'KNNWithMeans'],\n",
    "    'Top 5 Livres': [res_technique1, \n",
    "                     res_technique2_methode2.index.to_list(),\n",
    "                     list(res_technique3),\n",
    "                     list(res_technique4)]\n",
    "}\n",
    "\n",
    "df_recommendations = pd.DataFrame(data_recommendations)"
   ]
  },
  {
   "cell_type": "code",
   "execution_count": 392,
   "id": "c0b7ff12-58d2-4da6-b5e7-69a0ce2e3604",
   "metadata": {},
   "outputs": [
    {
     "name": "stdout",
     "output_type": "stream",
     "text": [
      "\n",
      "DataFrame des Recommandations :\n"
     ]
    },
    {
     "data": {
      "text/html": [
       "<div>\n",
       "<style scoped>\n",
       "    .dataframe tbody tr th:only-of-type {\n",
       "        vertical-align: middle;\n",
       "    }\n",
       "\n",
       "    .dataframe tbody tr th {\n",
       "        vertical-align: top;\n",
       "    }\n",
       "\n",
       "    .dataframe thead th {\n",
       "        text-align: right;\n",
       "    }\n",
       "</style>\n",
       "<table border=\"1\" class=\"dataframe\">\n",
       "  <thead>\n",
       "    <tr style=\"text-align: right;\">\n",
       "      <th></th>\n",
       "      <th>Technique/modèle</th>\n",
       "      <th>Top 5 Livres</th>\n",
       "    </tr>\n",
       "  </thead>\n",
       "  <tbody>\n",
       "    <tr>\n",
       "      <th>0</th>\n",
       "      <td>Content-based</td>\n",
       "      <td>[158212, 279260, 279246, 279247, 279248]</td>\n",
       "    </tr>\n",
       "    <tr>\n",
       "      <th>1</th>\n",
       "      <td>Cosine Similarity</td>\n",
       "      <td>[1386, 1218, 1121, 1274, 375]</td>\n",
       "    </tr>\n",
       "    <tr>\n",
       "      <th>2</th>\n",
       "      <td>SVD</td>\n",
       "      <td>[205348, 204365, 205514, 206952, 207213]</td>\n",
       "    </tr>\n",
       "    <tr>\n",
       "      <th>3</th>\n",
       "      <td>KNNWithMeans</td>\n",
       "      <td>[205636, 206015, 207622, 204641, 206567]</td>\n",
       "    </tr>\n",
       "  </tbody>\n",
       "</table>\n",
       "</div>"
      ],
      "text/plain": [
       "    Technique/modèle                              Top 5 Livres\n",
       "0      Content-based  [158212, 279260, 279246, 279247, 279248]\n",
       "1  Cosine Similarity             [1386, 1218, 1121, 1274, 375]\n",
       "2                SVD  [205348, 204365, 205514, 206952, 207213]\n",
       "3       KNNWithMeans  [205636, 206015, 207622, 204641, 206567]"
      ]
     },
     "execution_count": 392,
     "metadata": {},
     "output_type": "execute_result"
    }
   ],
   "source": [
    "print(\"\\nDataFrame des Recommandations :\")\n",
    "df_recommendations"
   ]
  },
  {
   "cell_type": "markdown",
   "id": "c36367ae-7fcb-4ff0-840f-81119647e572",
   "metadata": {},
   "source": [
    "#  Selection en enregistrement du meilleur model pour le  deployment"
   ]
  },
  {
   "cell_type": "code",
   "execution_count": 363,
   "id": "2eafa08c-f2a9-40af-9c11-46da9b8294ec",
   "metadata": {},
   "outputs": [],
   "source": [
    "import pickle"
   ]
  },
  {
   "cell_type": "code",
   "execution_count": 364,
   "id": "bb8422b4-fee8-44d7-a623-ac2db3c90ae7",
   "metadata": {},
   "outputs": [],
   "source": [
    "# Save to file in the current working directory\n",
    "pkl_filename = \"pickle_surprise_model_KNNWithMeansV2.pkl\"\n",
    "\n",
    "with open(pkl_filename, 'wb') as file:\n",
    "    pickle.dump(model, file)"
   ]
  },
  {
   "cell_type": "code",
   "execution_count": 365,
   "id": "cef7ad2a-6801-4672-9faa-d60a57761134",
   "metadata": {},
   "outputs": [],
   "source": [
    "# Load from file\n",
    "with open(pkl_filename, 'rb') as file:\n",
    "    pickle_model = pickle.load(file)"
   ]
  },
  {
   "cell_type": "markdown",
   "id": "99540dff-c760-4824-b50e-f355b0e75016",
   "metadata": {},
   "source": [
    "# prediction avec le modele enregistré"
   ]
  },
  {
   "cell_type": "code",
   "execution_count": 366,
   "id": "5e126129-e09a-4a68-a4e8-dcabda9a25ba",
   "metadata": {},
   "outputs": [],
   "source": [
    "predict_KNNWithMeans = pickle_model.test(test_set)"
   ]
  },
  {
   "cell_type": "code",
   "execution_count": 367,
   "id": "eb44b601-7097-4277-ac2b-b4f17a43d5a0",
   "metadata": {},
   "outputs": [],
   "source": [
    "top_n = get_top_n(predict_KNNWithMeans, n=10)\n"
   ]
  },
  {
   "cell_type": "code",
   "execution_count": 375,
   "id": "84b4d3a5-6cb1-4559-9f74-49ae45b9c63f",
   "metadata": {},
   "outputs": [
    {
     "name": "stdout",
     "output_type": "stream",
     "text": [
      "recommanded categories for user_id[1] : [331, 375]\n",
      "recommanded articles for user_id[1] : [205112 206033 208566 206909 205943]\n"
     ]
    }
   ],
   "source": [
    "recommendation, categories = make_recommendation(1, top_n, df, articles_df)\n",
    "\n",
    "print(f'recommanded categories for user_id[1] : {categories}')\n",
    "print(f'recommanded articles for user_id[1] : {recommendation}')"
   ]
  },
  {
   "cell_type": "code",
   "execution_count": 376,
   "id": "79cd12ee-35e9-4dc2-af4e-4e6ad0e8d70d",
   "metadata": {},
   "outputs": [],
   "source": [
    "recommendation, categories = make_recommendation(2, top_n, df, articles_df)"
   ]
  },
  {
   "cell_type": "code",
   "execution_count": 378,
   "id": "b391c8fb-6fd9-4213-9c44-bbbcc94ea2f4",
   "metadata": {},
   "outputs": [
    {
     "name": "stdout",
     "output_type": "stream",
     "text": [
      "recommanded categories for user_id[2] : [332]\n",
      "recommanded articles for user_id[2] : [208819 208839 208925 209135 208893]\n"
     ]
    }
   ],
   "source": [
    "print(f'recommanded categories for user_id[2] : {categories}')\n",
    "print(f'recommanded articles for user_id[2] : {recommendation}')"
   ]
  },
  {
   "cell_type": "code",
   "execution_count": null,
   "id": "c8be8bd1-3b2f-4992-82d0-c1721d345e71",
   "metadata": {},
   "outputs": [],
   "source": []
  }
 ],
 "metadata": {
  "kernelspec": {
   "display_name": "Python 3 (ipykernel)",
   "language": "python",
   "name": "python3"
  },
  "language_info": {
   "codemirror_mode": {
    "name": "ipython",
    "version": 3
   },
   "file_extension": ".py",
   "mimetype": "text/x-python",
   "name": "python",
   "nbconvert_exporter": "python",
   "pygments_lexer": "ipython3",
   "version": "3.12.2"
  }
 },
 "nbformat": 4,
 "nbformat_minor": 5
}
